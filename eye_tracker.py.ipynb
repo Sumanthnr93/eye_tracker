{
 "cells": [
  {
   "cell_type": "code",
   "execution_count": 1,
   "metadata": {},
   "outputs": [],
   "source": [
    "import numpy as np\n",
    "import tensorflow as tf\n",
    "import warnings\n",
    "warnings.filterwarnings('ignore')\n",
    "from subprocess import check_output\n",
    "\n",
    "%matplotlib inline\n",
    "import matplotlib.pyplot as plt"
   ]
  },
  {
   "cell_type": "code",
   "execution_count": 2,
   "metadata": {},
   "outputs": [],
   "source": [
    "left_eye_train = np.load('./eye_tracker_train_and_val/train_eye_left.npy')\n",
    "right_eye_train = np.load('./eye_tracker_train_and_val/train_eye_right.npy')\n",
    "train_face = np.load('./eye_tracker_train_and_val/train_face.npy')\n",
    "train_face_mask = np.load('./eye_tracker_train_and_val/train_face_mask.npy')\n",
    "train_y = np.load('./eye_tracker_train_and_val/train_y.npy')\n",
    "val_eye_left = np.load('./eye_tracker_train_and_val/val_eye_left.npy')\n",
    "val_eye_right = np.load('./eye_tracker_train_and_val/val_eye_right.npy')\n",
    "val_face = np.load('./eye_tracker_train_and_val/val_face.npy')\n",
    "val_face_mask = np.load('./eye_tracker_train_and_val/val_face_mask.npy')\n",
    "val_y = np.load('./eye_tracker_train_and_val/val_y.npy')"
   ]
  },
  {
   "cell_type": "code",
   "execution_count": 3,
   "metadata": {},
   "outputs": [
    {
     "name": "stdout",
     "output_type": "stream",
     "text": [
      "(48000, 64, 64, 3)\n",
      "(48000, 64, 64, 3)\n",
      "(48000, 64, 64, 3)\n",
      "(48000, 25, 25)\n",
      "(48000, 2)\n",
      "(5000, 64, 64, 3)\n",
      "(5000, 64, 64, 3)\n",
      "(5000, 64, 64, 3)\n",
      "(5000, 25, 25)\n",
      "(5000, 2)\n"
     ]
    }
   ],
   "source": [
    "print left_eye_train.shape\n",
    "print right_eye_train.shape\n",
    "print train_face.shape\n",
    "print train_face_mask.shape\n",
    "print train_y.shape\n",
    "print val_eye_left.shape\n",
    "print val_eye_right.shape\n",
    "print val_face.shape\n",
    "print val_face_mask.shape\n",
    "print val_y.shape"
   ]
  },
  {
   "cell_type": "code",
   "execution_count": 4,
   "metadata": {},
   "outputs": [],
   "source": [
    "img_size = 64\n",
    "img_size_flat = img_size * img_size\n",
    "img_shape = (img_size, img_size)"
   ]
  },
  {
   "cell_type": "code",
   "execution_count": null,
   "metadata": {},
   "outputs": [],
   "source": []
  },
  {
   "cell_type": "code",
   "execution_count": null,
   "metadata": {},
   "outputs": [],
   "source": []
  },
  {
   "cell_type": "code",
   "execution_count": null,
   "metadata": {},
   "outputs": [],
   "source": []
  }
 ],
 "metadata": {
  "kernelspec": {
   "display_name": "Python 2",
   "language": "python",
   "name": "python2"
  },
  "language_info": {
   "codemirror_mode": {
    "name": "ipython",
    "version": 2
   },
   "file_extension": ".py",
   "mimetype": "text/x-python",
   "name": "python",
   "nbconvert_exporter": "python",
   "pygments_lexer": "ipython2",
   "version": "2.7.15rc1"
  }
 },
 "nbformat": 4,
 "nbformat_minor": 2
}
